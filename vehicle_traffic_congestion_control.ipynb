{
  "nbformat": 4,
  "nbformat_minor": 0,
  "metadata": {
    "colab": {
      "provenance": [],
      "authorship_tag": "ABX9TyNHUT2+6rZc/uI04Mvb8hI5",
      "include_colab_link": true
    },
    "kernelspec": {
      "name": "python3",
      "display_name": "Python 3"
    },
    "language_info": {
      "name": "python"
    }
  },
  "cells": [
    {
      "cell_type": "markdown",
      "metadata": {
        "id": "view-in-github",
        "colab_type": "text"
      },
      "source": [
        "<a href=\"https://colab.research.google.com/github/nandini933/Java/blob/main/vehicle_traffic_congestion_control.ipynb\" target=\"_parent\"><img src=\"https://colab.research.google.com/assets/colab-badge.svg\" alt=\"Open In Colab\"/></a>"
      ]
    },
    {
      "cell_type": "code",
      "source": [
        "from google.colab import files\n",
        "uploaded = files.upload()"
      ],
      "metadata": {
        "id": "pUfwhzPh5P9-"
      },
      "execution_count": null,
      "outputs": []
    },
    {
      "cell_type": "code",
      "source": [
        "import cv2\n",
        "import numpy as np\n",
        "import urllib.request\n",
        "import os\n",
        "\n",
        "# Function to download YOLO files\n",
        "def download_yolo_files():\n",
        "    yolov3_files = [\n",
        "        (\"yolov3.weights\", \"https://pjreddie.com/media/files/yolov3.weights\"),\n",
        "        (\"yolov3.cfg\", \"https://github.com/pjreddie/darknet/blob/master/cfg/yolov3.cfg?raw=true\"),\n",
        "        (\"coco.names\", \"https://github.com/pjreddie/darknet/blob/master/data/coco.names?raw=true\")\n",
        "    ]\n",
        "\n",
        "    for filename, url in yolov3_files:\n",
        "        if not os.path.isfile(filename):\n",
        "            print(f\"Downloading {filename}...\")\n",
        "            urllib.request.urlretrieve(url, filename)\n",
        "        else:\n",
        "            print(f\"{filename} already exists.\")\n",
        "\n",
        "# Download YOLO files if not present\n",
        "download_yolo_files()\n",
        "from google.colab.patches import cv2_imshow\n",
        "# Load YOLO\n",
        "net = cv2.dnn.readNet(\"yolov3.weights\", \"yolov3.cfg\")\n",
        "classes = []\n",
        "with open(\"coco.names\", \"r\") as f:\n",
        "    classes = [line.strip() for line in f.readlines()]\n",
        "layer_names = net.getUnconnectedOutLayersNames()\n",
        "\n",
        "# Open video capture\n",
        "cap = cv2.VideoCapture(\"video.mp4\", cv2.CAP_ANY)\n",
        "\n",
        "\n",
        "# Set video frame size\n",
        "cap.set(3, 1280)\n",
        "cap.set(4, 720)\n",
        "\n",
        "while True:\n",
        "    ret, frame = cap.read()\n",
        "    if not ret:\n",
        "        break\n",
        "\n",
        "    height, width, channels = frame.shape\n",
        "\n",
        "    # Convert the frame to a blob\n",
        "    blob = cv2.dnn.blobFromImage(frame, 0.00392, (416, 416), (0, 0, 0), True, crop=False)\n",
        "\n",
        "    # Set the input to the network\n",
        "    net.setInput(blob)\n",
        "\n",
        "    # Run forward pass and get output\n",
        "    outs = net.forward(layer_names)\n",
        "\n",
        "    # Lists to store detected vehicles\n",
        "    class_ids = []\n",
        "    confidences = []\n",
        "    boxes = []\n",
        "\n",
        "    # Iterate through each detection\n",
        "    for out in outs:\n",
        "        for detection in out:\n",
        "            scores = detection[5:]\n",
        "            class_id = np.argmax(scores)\n",
        "            confidence = scores[class_id]\n",
        "\n",
        "            if confidence > 0.5 and class_id == 2:  # Class ID for cars is 2\n",
        "                center_x = int(detection[0] * width)\n",
        "                center_y = int(detection[1] * height)\n",
        "                w = int(detection[2] * width)\n",
        "                h = int(detection[3] * height)\n",
        "\n",
        "                x = int(center_x - w / 2)\n",
        "                y = int(center_y - h / 2)\n",
        "\n",
        "                class_ids.append(class_id)\n",
        "                confidences.append(float(confidence))\n",
        "                boxes.append([x, y, w, h])\n",
        "\n",
        "    # Apply non-maximum suppression to eliminate redundant overlapping boxes\n",
        "    indices = cv2.dnn.NMSBoxes(boxes, confidences, 0.5, 0.4)\n",
        "\n",
        "    # Draw bounding boxes and count vehicles\n",
        "    vehicle_count = 0\n",
        "    for i in indices:\n",
        "        box = boxes[i]\n",
        "        x, y, w, h = box\n",
        "\n",
        "        # Draw rectangle\n",
        "        cv2.rectangle(frame, (x, y), (x + w, y + h), (0, 255, 0), 2)\n",
        "        vehicle_count += 1\n",
        "\n",
        "    # Display vehicle count\n",
        "    cv2.putText(frame, f'Vehicle Count: {vehicle_count}', (10, 50), cv2.FONT_HERSHEY_SIMPLEX, 1, (0, 0, 255), 2)\n",
        "\n",
        "    # Display the resulting frame\n",
        "    cv2_imshow(frame)\n",
        "\n",
        "    # Break the loop when 'q' key is pressed\n",
        "    if cv2.waitKey(1) & 0xFF == ord('q'):\n",
        "        break\n",
        "\n",
        "# Release video capture and close all windows\n",
        "cap.release()\n",
        "cv2.destroyAllWindows()\n"
      ],
      "metadata": {
        "id": "8aH33BSq3GGv"
      },
      "execution_count": null,
      "outputs": []
    },
    {
      "cell_type": "code",
      "source": [
        "pip install --upgrade opencv-python\n"
      ],
      "metadata": {
        "id": "zlajPO6847P1"
      },
      "execution_count": null,
      "outputs": []
    }
  ]
}